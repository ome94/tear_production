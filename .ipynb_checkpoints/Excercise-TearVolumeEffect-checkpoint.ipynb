{
 "cells": [
  {
   "cell_type": "markdown",
   "id": "f66918a7",
   "metadata": {
    "slideshow": {
     "slide_type": "slide"
    }
   },
   "source": [
    "# The Effects of Aerobic Excercise On Tear Production"
   ]
  },
  {
   "cell_type": "markdown",
   "id": "6a3b77fe",
   "metadata": {
    "slideshow": {
     "slide_type": "subslide"
    }
   },
   "source": [
    "This analysis aims to study the effects of aerobic exercise on the producion of tear. This aims to establish whether aerobic exercises will improve the prodcion of tear in patients with dry eyes.\n",
    "\n",
    "There are three datasets available for this study, each recording the observed variaions in tear production with respect to the time of exercise:\n",
    "- DATA FOR NON-ATHLETE BEFORE EXERCISE.xlsx\n",
    "- DATA FOR NON-ATHLETE DURING EXERCISE.xlsx\n",
    "- DATA FOR NON-ATHLETE AFTER EXERCISE.xlsx"
   ]
  },
  {
   "cell_type": "code",
   "execution_count": 1,
   "id": "0934c772",
   "metadata": {
    "slideshow": {
     "slide_type": "skip"
    }
   },
   "outputs": [],
   "source": [
    "import pandas as pd"
   ]
  },
  {
   "cell_type": "code",
   "execution_count": 2,
   "id": "a487b73b",
   "metadata": {
    "slideshow": {
     "slide_type": "skip"
    }
   },
   "outputs": [
    {
     "data": {
      "text/plain": [
       "Index(['NAME', 'SEX', 'AGE', 'WEIGHT', 'HEIGHT', 'WAIST CIRCUMFERENCE',\n",
       "       'BP(OD)         ', 'BP(OS)', 'PULSE RATE', 'PUPIL SIZE', 'IOP(OD)',\n",
       "       'IOP(OS)', 'TEAR VOLUME', 'BMI'],\n",
       "      dtype='object')"
      ]
     },
     "execution_count": 2,
     "metadata": {},
     "output_type": "execute_result"
    }
   ],
   "source": [
    "before = pd.read_excel('DATA FOR NON-ATHLETE BEFORE EXERCISE.xlsx')\n",
    "before.columns"
   ]
  },
  {
   "cell_type": "code",
   "execution_count": 3,
   "id": "966bb97f",
   "metadata": {
    "slideshow": {
     "slide_type": "skip"
    }
   },
   "outputs": [
    {
     "data": {
      "text/html": [
       "<div>\n",
       "<style scoped>\n",
       "    .dataframe tbody tr th:only-of-type {\n",
       "        vertical-align: middle;\n",
       "    }\n",
       "\n",
       "    .dataframe tbody tr th {\n",
       "        vertical-align: top;\n",
       "    }\n",
       "\n",
       "    .dataframe thead th {\n",
       "        text-align: right;\n",
       "    }\n",
       "</style>\n",
       "<table border=\"1\" class=\"dataframe\">\n",
       "  <thead>\n",
       "    <tr style=\"text-align: right;\">\n",
       "      <th></th>\n",
       "      <th>NAME</th>\n",
       "      <th>SEX</th>\n",
       "      <th>AGE</th>\n",
       "      <th>WEIGHT</th>\n",
       "      <th>HEIGHT</th>\n",
       "      <th>WAIST CIRCUMFERENCE</th>\n",
       "      <th>BP(OD)</th>\n",
       "      <th>BP(OS)</th>\n",
       "      <th>PULSE RATE</th>\n",
       "      <th>PUPIL SIZE</th>\n",
       "      <th>IOP(OD)</th>\n",
       "      <th>IOP(OS)</th>\n",
       "      <th>TEAR VOLUME</th>\n",
       "      <th>BMI</th>\n",
       "    </tr>\n",
       "  </thead>\n",
       "  <tbody>\n",
       "    <tr>\n",
       "      <th>0</th>\n",
       "      <td>CHUKWUEMEKA STEPAHNIE</td>\n",
       "      <td>F</td>\n",
       "      <td>19</td>\n",
       "      <td>50.0</td>\n",
       "      <td>162</td>\n",
       "      <td>75.0</td>\n",
       "      <td>116/68</td>\n",
       "      <td>117/69</td>\n",
       "      <td>92</td>\n",
       "      <td>4.0</td>\n",
       "      <td>15.3</td>\n",
       "      <td>14.3</td>\n",
       "      <td>3</td>\n",
       "      <td>19.1</td>\n",
       "    </tr>\n",
       "    <tr>\n",
       "      <th>1</th>\n",
       "      <td>IGBOANUGGOUDE UGOCHINYEREM</td>\n",
       "      <td>F</td>\n",
       "      <td>19</td>\n",
       "      <td>65.0</td>\n",
       "      <td>175</td>\n",
       "      <td>84.0</td>\n",
       "      <td>120/69</td>\n",
       "      <td>118/71</td>\n",
       "      <td>74</td>\n",
       "      <td>3.5</td>\n",
       "      <td>20.3</td>\n",
       "      <td>19.3</td>\n",
       "      <td>4</td>\n",
       "      <td>21.2</td>\n",
       "    </tr>\n",
       "    <tr>\n",
       "      <th>2</th>\n",
       "      <td>JOLUGBO VICTORIA</td>\n",
       "      <td>F</td>\n",
       "      <td>19</td>\n",
       "      <td>83.0</td>\n",
       "      <td>171</td>\n",
       "      <td>95.0</td>\n",
       "      <td>120/71</td>\n",
       "      <td>118/71</td>\n",
       "      <td>77</td>\n",
       "      <td>3.0</td>\n",
       "      <td>12.5</td>\n",
       "      <td>12.3</td>\n",
       "      <td>33</td>\n",
       "      <td>28.4</td>\n",
       "    </tr>\n",
       "    <tr>\n",
       "      <th>3</th>\n",
       "      <td>OYETUNDE LUKMAN</td>\n",
       "      <td>M</td>\n",
       "      <td>19</td>\n",
       "      <td>54.0</td>\n",
       "      <td>161</td>\n",
       "      <td>82.0</td>\n",
       "      <td>124/72</td>\n",
       "      <td>122/72</td>\n",
       "      <td>55</td>\n",
       "      <td>3.5</td>\n",
       "      <td>13.7</td>\n",
       "      <td>15.3</td>\n",
       "      <td>6</td>\n",
       "      <td>20.8</td>\n",
       "    </tr>\n",
       "    <tr>\n",
       "      <th>4</th>\n",
       "      <td>AJAI MESHACH</td>\n",
       "      <td>M</td>\n",
       "      <td>20</td>\n",
       "      <td>62.0</td>\n",
       "      <td>175</td>\n",
       "      <td>89.0</td>\n",
       "      <td>129/75</td>\n",
       "      <td>124/73</td>\n",
       "      <td>57</td>\n",
       "      <td>4.0</td>\n",
       "      <td>17.7</td>\n",
       "      <td>22.3</td>\n",
       "      <td>35</td>\n",
       "      <td>20.2</td>\n",
       "    </tr>\n",
       "  </tbody>\n",
       "</table>\n",
       "</div>"
      ],
      "text/plain": [
       "                         NAME SEX  AGE  WEIGHT  HEIGHT  WAIST CIRCUMFERENCE  \\\n",
       "0       CHUKWUEMEKA STEPAHNIE   F   19    50.0     162                 75.0   \n",
       "1  IGBOANUGGOUDE UGOCHINYEREM   F   19    65.0     175                 84.0   \n",
       "2            JOLUGBO VICTORIA   F   19    83.0     171                 95.0   \n",
       "3             OYETUNDE LUKMAN   M   19    54.0     161                 82.0   \n",
       "4                AJAI MESHACH   M   20    62.0     175                 89.0   \n",
       "\n",
       "  BP(OD)           BP(OS)  PULSE RATE  PUPIL SIZE  IOP(OD)  IOP(OS)  \\\n",
       "0          116/68  117/69          92         4.0     15.3     14.3   \n",
       "1          120/69  118/71          74         3.5     20.3     19.3   \n",
       "2          120/71  118/71          77         3.0     12.5     12.3   \n",
       "3          124/72  122/72          55         3.5     13.7     15.3   \n",
       "4          129/75  124/73          57         4.0     17.7     22.3   \n",
       "\n",
       "   TEAR VOLUME   BMI  \n",
       "0            3  19.1  \n",
       "1            4  21.2  \n",
       "2           33  28.4  \n",
       "3            6  20.8  \n",
       "4           35  20.2  "
      ]
     },
     "execution_count": 3,
     "metadata": {},
     "output_type": "execute_result"
    }
   ],
   "source": [
    "before.head()"
   ]
  },
  {
   "cell_type": "code",
   "execution_count": 4,
   "id": "e371a9e8",
   "metadata": {
    "slideshow": {
     "slide_type": "skip"
    }
   },
   "outputs": [
    {
     "name": "stdout",
     "output_type": "stream",
     "text": [
      "<class 'pandas.core.frame.DataFrame'>\n",
      "RangeIndex: 28 entries, 0 to 27\n",
      "Data columns (total 14 columns):\n",
      " #   Column               Non-Null Count  Dtype  \n",
      "---  ------               --------------  -----  \n",
      " 0   NAME                 28 non-null     object \n",
      " 1   SEX                  28 non-null     object \n",
      " 2   AGE                  28 non-null     int64  \n",
      " 3   WEIGHT               28 non-null     float64\n",
      " 4   HEIGHT               28 non-null     int64  \n",
      " 5   WAIST CIRCUMFERENCE  28 non-null     float64\n",
      " 6   BP(OD)               28 non-null     object \n",
      " 7   BP(OS)               28 non-null     object \n",
      " 8   PULSE RATE           28 non-null     int64  \n",
      " 9   PUPIL SIZE           28 non-null     float64\n",
      " 10  IOP(OD)              28 non-null     float64\n",
      " 11  IOP(OS)              28 non-null     float64\n",
      " 12  TEAR VOLUME          28 non-null     int64  \n",
      " 13  BMI                  28 non-null     float64\n",
      "dtypes: float64(6), int64(4), object(4)\n",
      "memory usage: 3.2+ KB\n"
     ]
    }
   ],
   "source": [
    "before.info()"
   ]
  },
  {
   "cell_type": "code",
   "execution_count": 5,
   "id": "edc684cb",
   "metadata": {
    "slideshow": {
     "slide_type": "skip"
    }
   },
   "outputs": [
    {
     "data": {
      "text/plain": [
       "Index(['NAME', 'SEX', 'AGE', 'BP(OD)', 'BP(OS)', 'HEART RATE (OD)',\n",
       "       'HEART RATE (OS)', 'PUPIL SIZE', 'IOP (OD)', 'IOP (OS)', 'TEAR VOLUME'],\n",
       "      dtype='object')"
      ]
     },
     "execution_count": 5,
     "metadata": {},
     "output_type": "execute_result"
    }
   ],
   "source": [
    "during = pd.read_excel('DATA FOR NON-ATHLETE DURING EXERCISE.xlsx')\n",
    "during.columns"
   ]
  },
  {
   "cell_type": "code",
   "execution_count": 6,
   "id": "3f5f1db1",
   "metadata": {
    "slideshow": {
     "slide_type": "skip"
    }
   },
   "outputs": [
    {
     "data": {
      "text/html": [
       "<div>\n",
       "<style scoped>\n",
       "    .dataframe tbody tr th:only-of-type {\n",
       "        vertical-align: middle;\n",
       "    }\n",
       "\n",
       "    .dataframe tbody tr th {\n",
       "        vertical-align: top;\n",
       "    }\n",
       "\n",
       "    .dataframe thead th {\n",
       "        text-align: right;\n",
       "    }\n",
       "</style>\n",
       "<table border=\"1\" class=\"dataframe\">\n",
       "  <thead>\n",
       "    <tr style=\"text-align: right;\">\n",
       "      <th></th>\n",
       "      <th>NAME</th>\n",
       "      <th>SEX</th>\n",
       "      <th>AGE</th>\n",
       "      <th>BP(OD)</th>\n",
       "      <th>BP(OS)</th>\n",
       "      <th>HEART RATE (OD)</th>\n",
       "      <th>HEART RATE (OS)</th>\n",
       "      <th>PUPIL SIZE</th>\n",
       "      <th>IOP (OD)</th>\n",
       "      <th>IOP (OS)</th>\n",
       "      <th>TEAR VOLUME</th>\n",
       "    </tr>\n",
       "  </thead>\n",
       "  <tbody>\n",
       "    <tr>\n",
       "      <th>0</th>\n",
       "      <td>CHUKWUEMEKA STEPAHNIE</td>\n",
       "      <td>F</td>\n",
       "      <td>19</td>\n",
       "      <td>117/92</td>\n",
       "      <td>128/66</td>\n",
       "      <td>110</td>\n",
       "      <td>89</td>\n",
       "      <td>6.0</td>\n",
       "      <td>15.0</td>\n",
       "      <td>17.0</td>\n",
       "      <td>12</td>\n",
       "    </tr>\n",
       "    <tr>\n",
       "      <th>1</th>\n",
       "      <td>IGBOANUGGOUDE UGOCHINYEREM</td>\n",
       "      <td>F</td>\n",
       "      <td>19</td>\n",
       "      <td>185/157</td>\n",
       "      <td>188/147</td>\n",
       "      <td>115</td>\n",
       "      <td>66</td>\n",
       "      <td>5.0</td>\n",
       "      <td>18.3</td>\n",
       "      <td>19.7</td>\n",
       "      <td>28</td>\n",
       "    </tr>\n",
       "    <tr>\n",
       "      <th>2</th>\n",
       "      <td>JOLUGBO VICTORIA</td>\n",
       "      <td>F</td>\n",
       "      <td>19</td>\n",
       "      <td>163/116</td>\n",
       "      <td>150/117</td>\n",
       "      <td>75</td>\n",
       "      <td>87</td>\n",
       "      <td>5.0</td>\n",
       "      <td>14.3</td>\n",
       "      <td>13.3</td>\n",
       "      <td>22</td>\n",
       "    </tr>\n",
       "    <tr>\n",
       "      <th>3</th>\n",
       "      <td>OYETUNDE LUKMAN</td>\n",
       "      <td>M</td>\n",
       "      <td>19</td>\n",
       "      <td>116/98</td>\n",
       "      <td>164/120</td>\n",
       "      <td>106</td>\n",
       "      <td>77</td>\n",
       "      <td>6.0</td>\n",
       "      <td>13.0</td>\n",
       "      <td>13.7</td>\n",
       "      <td>6</td>\n",
       "    </tr>\n",
       "    <tr>\n",
       "      <th>4</th>\n",
       "      <td>AJAI MESHACH</td>\n",
       "      <td>M</td>\n",
       "      <td>20</td>\n",
       "      <td>125/112</td>\n",
       "      <td>95/80</td>\n",
       "      <td>108</td>\n",
       "      <td>154</td>\n",
       "      <td>4.0</td>\n",
       "      <td>16.3</td>\n",
       "      <td>18.3</td>\n",
       "      <td>5</td>\n",
       "    </tr>\n",
       "  </tbody>\n",
       "</table>\n",
       "</div>"
      ],
      "text/plain": [
       "                         NAME SEX  AGE   BP(OD)   BP(OS)  HEART RATE (OD)  \\\n",
       "0       CHUKWUEMEKA STEPAHNIE   F   19   117/92   128/66              110   \n",
       "1  IGBOANUGGOUDE UGOCHINYEREM   F   19  185/157  188/147              115   \n",
       "2            JOLUGBO VICTORIA   F   19  163/116  150/117               75   \n",
       "3             OYETUNDE LUKMAN   M   19   116/98  164/120              106   \n",
       "4                AJAI MESHACH   M   20  125/112    95/80              108   \n",
       "\n",
       "   HEART RATE (OS)  PUPIL SIZE  IOP (OD)  IOP (OS)  TEAR VOLUME  \n",
       "0               89         6.0      15.0      17.0           12  \n",
       "1               66         5.0      18.3      19.7           28  \n",
       "2               87         5.0      14.3      13.3           22  \n",
       "3               77         6.0      13.0      13.7            6  \n",
       "4              154         4.0      16.3      18.3            5  "
      ]
     },
     "execution_count": 6,
     "metadata": {},
     "output_type": "execute_result"
    }
   ],
   "source": [
    "during.head()"
   ]
  },
  {
   "cell_type": "code",
   "execution_count": 7,
   "id": "c2664fb9",
   "metadata": {
    "slideshow": {
     "slide_type": "skip"
    }
   },
   "outputs": [
    {
     "name": "stdout",
     "output_type": "stream",
     "text": [
      "<class 'pandas.core.frame.DataFrame'>\n",
      "RangeIndex: 28 entries, 0 to 27\n",
      "Data columns (total 11 columns):\n",
      " #   Column           Non-Null Count  Dtype  \n",
      "---  ------           --------------  -----  \n",
      " 0   NAME             28 non-null     object \n",
      " 1   SEX              28 non-null     object \n",
      " 2   AGE              28 non-null     int64  \n",
      " 3   BP(OD)           28 non-null     object \n",
      " 4   BP(OS)           28 non-null     object \n",
      " 5   HEART RATE (OD)  28 non-null     int64  \n",
      " 6   HEART RATE (OS)  28 non-null     int64  \n",
      " 7   PUPIL SIZE       28 non-null     float64\n",
      " 8   IOP (OD)         28 non-null     float64\n",
      " 9   IOP (OS)         28 non-null     float64\n",
      " 10  TEAR VOLUME      28 non-null     int64  \n",
      "dtypes: float64(3), int64(4), object(4)\n",
      "memory usage: 2.5+ KB\n"
     ]
    }
   ],
   "source": [
    "during.info()"
   ]
  },
  {
   "cell_type": "code",
   "execution_count": 8,
   "id": "09535656",
   "metadata": {
    "slideshow": {
     "slide_type": "skip"
    }
   },
   "outputs": [
    {
     "data": {
      "text/plain": [
       "Index(['NAME', 'SEX', 'AGE', 'BP(OD)', 'BP(OS)', 'HEART RATE (OD)',\n",
       "       'HEART RATE (OS)', 'PUPIL SIZE', 'IOP (OD)', 'IOP (OS)', 'TEAR VOLUME'],\n",
       "      dtype='object')"
      ]
     },
     "execution_count": 8,
     "metadata": {},
     "output_type": "execute_result"
    }
   ],
   "source": [
    "after = pd.read_excel('DATA FOR NON-ATHLETE AFTER EXERCISE.xlsx')\n",
    "after.columns"
   ]
  },
  {
   "cell_type": "code",
   "execution_count": 9,
   "id": "922cbded",
   "metadata": {
    "scrolled": true,
    "slideshow": {
     "slide_type": "skip"
    }
   },
   "outputs": [
    {
     "name": "stdout",
     "output_type": "stream",
     "text": [
      "<class 'pandas.core.frame.DataFrame'>\n",
      "RangeIndex: 28 entries, 0 to 27\n",
      "Data columns (total 11 columns):\n",
      " #   Column           Non-Null Count  Dtype  \n",
      "---  ------           --------------  -----  \n",
      " 0   NAME             28 non-null     object \n",
      " 1   SEX              28 non-null     object \n",
      " 2   AGE              28 non-null     int64  \n",
      " 3   BP(OD)           28 non-null     object \n",
      " 4   BP(OS)           28 non-null     object \n",
      " 5   HEART RATE (OD)  28 non-null     int64  \n",
      " 6   HEART RATE (OS)  28 non-null     int64  \n",
      " 7   PUPIL SIZE       28 non-null     float64\n",
      " 8   IOP (OD)         28 non-null     float64\n",
      " 9   IOP (OS)         28 non-null     float64\n",
      " 10  TEAR VOLUME      28 non-null     int64  \n",
      "dtypes: float64(3), int64(4), object(4)\n",
      "memory usage: 2.5+ KB\n"
     ]
    }
   ],
   "source": [
    "after.info()"
   ]
  },
  {
   "cell_type": "code",
   "execution_count": 10,
   "id": "27e81ff5",
   "metadata": {
    "slideshow": {
     "slide_type": "skip"
    }
   },
   "outputs": [
    {
     "data": {
      "text/plain": [
       "{'BMI',\n",
       " 'BP(OD)',\n",
       " 'BP(OD)         ',\n",
       " 'HEART RATE (OD)',\n",
       " 'HEART RATE (OS)',\n",
       " 'HEIGHT',\n",
       " 'IOP (OD)',\n",
       " 'IOP (OS)',\n",
       " 'IOP(OD)',\n",
       " 'IOP(OS)',\n",
       " 'PULSE RATE',\n",
       " 'WAIST CIRCUMFERENCE',\n",
       " 'WEIGHT'}"
      ]
     },
     "execution_count": 10,
     "metadata": {},
     "output_type": "execute_result"
    }
   ],
   "source": [
    "set(before.columns).symmetric_difference(set(after.columns))"
   ]
  },
  {
   "cell_type": "code",
   "execution_count": 11,
   "id": "695f40b3",
   "metadata": {
    "slideshow": {
     "slide_type": "skip"
    }
   },
   "outputs": [
    {
     "data": {
      "text/plain": [
       "{'BMI',\n",
       " 'BP(OD)         ',\n",
       " 'HEIGHT',\n",
       " 'IOP(OD)',\n",
       " 'IOP(OS)',\n",
       " 'PULSE RATE',\n",
       " 'WAIST CIRCUMFERENCE',\n",
       " 'WEIGHT'}"
      ]
     },
     "execution_count": 11,
     "metadata": {},
     "output_type": "execute_result"
    }
   ],
   "source": [
    "set(before.columns).difference(set(after.columns))"
   ]
  },
  {
   "cell_type": "code",
   "execution_count": 12,
   "id": "18736d80",
   "metadata": {
    "slideshow": {
     "slide_type": "skip"
    }
   },
   "outputs": [
    {
     "data": {
      "text/plain": [
       "{'BP(OD)', 'HEART RATE (OD)', 'HEART RATE (OS)', 'IOP (OD)', 'IOP (OS)'}"
      ]
     },
     "execution_count": 12,
     "metadata": {},
     "output_type": "execute_result"
    }
   ],
   "source": [
    "set(after.columns).difference(set(before.columns))"
   ]
  },
  {
   "cell_type": "code",
   "execution_count": 13,
   "id": "cf4ad034",
   "metadata": {
    "slideshow": {
     "slide_type": "skip"
    }
   },
   "outputs": [
    {
     "data": {
      "text/plain": [
       "set()"
      ]
     },
     "execution_count": 13,
     "metadata": {},
     "output_type": "execute_result"
    }
   ],
   "source": [
    "set(during.columns).symmetric_difference(set(after.columns))"
   ]
  },
  {
   "cell_type": "code",
   "execution_count": 14,
   "id": "f30a92f7",
   "metadata": {
    "slideshow": {
     "slide_type": "skip"
    }
   },
   "outputs": [
    {
     "data": {
      "text/plain": [
       "set()"
      ]
     },
     "execution_count": 14,
     "metadata": {},
     "output_type": "execute_result"
    }
   ],
   "source": [
    "set(during.columns).difference(set(after.columns))"
   ]
  },
  {
   "cell_type": "code",
   "execution_count": 15,
   "id": "175c51d7",
   "metadata": {
    "slideshow": {
     "slide_type": "skip"
    }
   },
   "outputs": [
    {
     "data": {
      "text/plain": [
       "{'AGE',\n",
       " 'BP(OD)',\n",
       " 'BP(OS)',\n",
       " 'HEART RATE (OD)',\n",
       " 'HEART RATE (OS)',\n",
       " 'IOP (OD)',\n",
       " 'IOP (OS)',\n",
       " 'NAME',\n",
       " 'PUPIL SIZE',\n",
       " 'SEX',\n",
       " 'TEAR VOLUME'}"
      ]
     },
     "execution_count": 15,
     "metadata": {},
     "output_type": "execute_result"
    }
   ],
   "source": [
    "set(during.columns).intersection(set(during.columns))"
   ]
  },
  {
   "cell_type": "code",
   "execution_count": 16,
   "id": "60f21ec6",
   "metadata": {
    "slideshow": {
     "slide_type": "skip"
    }
   },
   "outputs": [
    {
     "data": {
      "text/plain": [
       "set()"
      ]
     },
     "execution_count": 16,
     "metadata": {},
     "output_type": "execute_result"
    }
   ],
   "source": [
    "set(before['NAME']).symmetric_difference(set(during['NAME']))"
   ]
  },
  {
   "cell_type": "code",
   "execution_count": 17,
   "id": "84dbbe95",
   "metadata": {
    "slideshow": {
     "slide_type": "skip"
    }
   },
   "outputs": [
    {
     "data": {
      "text/plain": [
       "set()"
      ]
     },
     "execution_count": 17,
     "metadata": {},
     "output_type": "execute_result"
    }
   ],
   "source": [
    "set(during['NAME']).symmetric_difference(set(after['NAME']))"
   ]
  },
  {
   "cell_type": "code",
   "execution_count": 18,
   "id": "3f59afb6",
   "metadata": {
    "slideshow": {
     "slide_type": "skip"
    }
   },
   "outputs": [],
   "source": [
    "import matplotlib.pyplot as plt\n",
    "import seaborn as sns"
   ]
  },
  {
   "cell_type": "code",
   "execution_count": 19,
   "id": "98ee1cc6",
   "metadata": {
    "slideshow": {
     "slide_type": "slide"
    }
   },
   "outputs": [
    {
     "data": {
      "image/png": "[encoded data removed]",
      "text/plain": [
       "<Figure size 432x288 with 1 Axes>"
      ]
     },
     "metadata": {
      "needs_background": "light"
     },
     "output_type": "display_data"
    }
   ],
   "source": [
    "sns.countplot(data=before, x='SEX', color=sns.color_palette()[0])\n",
    "plt.xticks([0, 1], ['Female', 'Male'])\n",
    "plt.xlabel('Gender')\n",
    "plt.ylabel('Count')\n",
    "plt.title('Sample Gender Size');"
   ]
  },
  {
   "cell_type": "code",
   "execution_count": 20,
   "id": "a538e88a",
   "metadata": {
    "slideshow": {
     "slide_type": "subslide"
    }
   },
   "outputs": [
    {
     "data": {
      "image/png": "[encoded data removed]",
      "text/plain": [
       "<Figure size 432x288 with 1 Axes>"
      ]
     },
     "metadata": {},
     "output_type": "display_data"
    }
   ],
   "source": [
    "plt.pie(before['SEX'].value_counts(), startangle=90);"
   ]
  },
  {
   "cell_type": "code",
   "execution_count": 21,
   "id": "28a396f0",
   "metadata": {
    "slideshow": {
     "slide_type": "subslide"
    }
   },
   "outputs": [
    {
     "data": {
      "image/png": "[encoded data removed]",
      "text/plain": [
       "<Figure size 432x288 with 1 Axes>"
      ]
     },
     "metadata": {},
     "output_type": "display_data"
    }
   ],
   "source": [
    "plt.pie(before['SEX'].value_counts(), startangle=90, wedgeprops={'width': 0.5});"
   ]
  },
  {
   "cell_type": "code",
   "execution_count": 22,
   "id": "ff1a870f",
   "metadata": {
    "slideshow": {
     "slide_type": "slide"
    }
   },
   "outputs": [
    {
     "data": {
      "text/plain": [
       "<AxesSubplot:>"
      ]
     },
     "execution_count": 22,
     "metadata": {},
     "output_type": "execute_result"
    },
    {
     "data": {
      "image/png": "[encoded data removed]",
      "text/plain": [
       "<Figure size 432x288 with 1 Axes>"
      ]
     },
     "metadata": {
      "needs_background": "light"
     },
     "output_type": "display_data"
    }
   ],
   "source": [
    "before['TEAR VOLUME'].plot(kind='box')"
   ]
  },
  {
   "cell_type": "code",
   "execution_count": 23,
   "id": "e97e066d",
   "metadata": {
    "slideshow": {
     "slide_type": "subslide"
    }
   },
   "outputs": [
    {
     "data": {
      "text/plain": [
       "count    28.000000\n",
       "mean     20.892857\n",
       "std      11.262324\n",
       "min       1.000000\n",
       "25%      11.750000\n",
       "50%      23.500000\n",
       "75%      31.250000\n",
       "max      35.000000\n",
       "Name: TEAR VOLUME, dtype: float64"
      ]
     },
     "execution_count": 23,
     "metadata": {},
     "output_type": "execute_result"
    }
   ],
   "source": [
    "before['TEAR VOLUME'].describe()"
   ]
  },
  {
   "cell_type": "code",
   "execution_count": 24,
   "id": "04b5590d",
   "metadata": {
    "slideshow": {
     "slide_type": "subslide"
    }
   },
   "outputs": [
    {
     "data": {
      "text/plain": [
       "<AxesSubplot:>"
      ]
     },
     "execution_count": 24,
     "metadata": {},
     "output_type": "execute_result"
    },
    {
     "data": {
      "image/png": "[encoded data removed]",
      "text/plain": [
       "<Figure size 432x288 with 1 Axes>"
      ]
     },
     "metadata": {
      "needs_background": "light"
     },
     "output_type": "display_data"
    }
   ],
   "source": [
    "during['TEAR VOLUME'].plot(kind='box')"
   ]
  },
  {
   "cell_type": "code",
   "execution_count": 25,
   "id": "3a74d46b",
   "metadata": {
    "slideshow": {
     "slide_type": "subslide"
    }
   },
   "outputs": [
    {
     "data": {
      "text/plain": [
       "count    28.000000\n",
       "mean     14.535714\n",
       "std      11.660259\n",
       "min       0.000000\n",
       "25%       5.750000\n",
       "50%      11.000000\n",
       "75%      22.500000\n",
       "max      35.000000\n",
       "Name: TEAR VOLUME, dtype: float64"
      ]
     },
     "execution_count": 25,
     "metadata": {},
     "output_type": "execute_result"
    }
   ],
   "source": [
    "during['TEAR VOLUME'].describe()"
   ]
  },
  {
   "cell_type": "code",
   "execution_count": 26,
   "id": "3c21fcbc",
   "metadata": {
    "slideshow": {
     "slide_type": "skip"
    }
   },
   "outputs": [
    {
     "data": {
      "image/png": "[encoded data removed]",
      "text/plain": [
       "<Figure size 432x288 with 1 Axes>"
      ]
     },
     "metadata": {
      "needs_background": "light"
     },
     "output_type": "display_data"
    }
   ],
   "source": [
    "import numpy as np\n",
    "plt.hist(before['TEAR VOLUME'], bins=np.arange(0, 40, 3));"
   ]
  },
  {
   "cell_type": "code",
   "execution_count": 27,
   "id": "1137159a",
   "metadata": {
    "slideshow": {
     "slide_type": "skip"
    }
   },
   "outputs": [
    {
     "data": {
      "image/png": "[encoded data removed]",
      "text/plain": [
       "<Figure size 432x288 with 1 Axes>"
      ]
     },
     "metadata": {
      "needs_background": "light"
     },
     "output_type": "display_data"
    }
   ],
   "source": [
    "sns.histplot(before['TEAR VOLUME'], bins=np.arange(0, 40, 3));"
   ]
  },
  {
   "cell_type": "code",
   "execution_count": 28,
   "id": "1d4f9da2",
   "metadata": {
    "slideshow": {
     "slide_type": "skip"
    }
   },
   "outputs": [
    {
     "data": {
      "text/plain": [
       "(array([5., 2., 5., 2., 2., 3., 1., 1., 1., 1., 1., 4., 0.]),\n",
       " array([ 0,  3,  6,  9, 12, 15, 18, 21, 24, 27, 30, 33, 36, 39]),\n",
       " <BarContainer object of 13 artists>)"
      ]
     },
     "execution_count": 28,
     "metadata": {},
     "output_type": "execute_result"
    },
    {
     "data": {
      "image/png": "[encoded data removed]",
      "text/plain": [
       "<Figure size 432x288 with 1 Axes>"
      ]
     },
     "metadata": {
      "needs_background": "light"
     },
     "output_type": "display_data"
    }
   ],
   "source": [
    "plt.hist(during['TEAR VOLUME'], bins=np.arange(0, 40, 3))"
   ]
  },
  {
   "cell_type": "code",
   "execution_count": 29,
   "id": "16fdb5ab",
   "metadata": {
    "slideshow": {
     "slide_type": "skip"
    }
   },
   "outputs": [
    {
     "data": {
      "text/plain": [
       "(array([ 0.,  1.,  2.,  5.,  1.,  4.,  0.,  1.,  2.,  0.,  0., 12.,  0.]),\n",
       " array([ 0,  3,  6,  9, 12, 15, 18, 21, 24, 27, 30, 33, 36, 39]),\n",
       " <BarContainer object of 13 artists>)"
      ]
     },
     "execution_count": 29,
     "metadata": {},
     "output_type": "execute_result"
    },
    {
     "data": {
      "image/png": "[encoded data removed]",
      "text/plain": [
       "<Figure size 432x288 with 1 Axes>"
      ]
     },
     "metadata": {
      "needs_background": "light"
     },
     "output_type": "display_data"
    }
   ],
   "source": [
    "plt.hist(after['TEAR VOLUME'], bins=np.arange(0, 40, 3))"
   ]
  },
  {
   "cell_type": "code",
   "execution_count": 30,
   "id": "24673466",
   "metadata": {
    "slideshow": {
     "slide_type": "skip"
    }
   },
   "outputs": [
    {
     "data": {
      "text/plain": [
       "<AxesSubplot:xlabel='TEAR VOLUME', ylabel='Count'>"
      ]
     },
     "execution_count": 30,
     "metadata": {},
     "output_type": "execute_result"
    },
    {
     "data": {
      "image/png": "[encoded data removed]",
      "text/plain": [
       "<Figure size 432x288 with 1 Axes>"
      ]
     },
     "metadata": {
      "needs_background": "light"
     },
     "output_type": "display_data"
    }
   ],
   "source": [
    "sns.histplot(after['TEAR VOLUME'], bins=np.arange(0, 40, 3))"
   ]
  },
  {
   "cell_type": "code",
   "execution_count": 31,
   "id": "c57f5e0c",
   "metadata": {
    "scrolled": false,
    "slideshow": {
     "slide_type": "skip"
    }
   },
   "outputs": [
    {
     "data": {
      "image/png": "[encoded data removed]",
      "text/plain": [
       "<Figure size 1728x504 with 3 Axes>"
      ]
     },
     "metadata": {
      "needs_background": "light"
     },
     "output_type": "display_data"
    }
   ],
   "source": [
    "plt.figure(figsize=[24, 7])\n",
    "plt.subplot(1, 3, 1)\n",
    "plt.hist(before['TEAR VOLUME'], bins=np.arange(0, 40, 3))\n",
    "plt.title('Before')\n",
    "plt.subplot(1, 3, 2)\n",
    "plt.hist(during['TEAR VOLUME'], bins=np.arange(0, 40, 3))\n",
    "plt.title('During')\n",
    "plt.subplot(1, 3, 3)\n",
    "plt.hist(after['TEAR VOLUME'], bins=np.arange(0, 40, 3));\n",
    "plt.title('After')\n",
    "plt.suptitle('Distribution of Tear Volume With Exercise');"
   ]
  },
  {
   "cell_type": "code",
   "execution_count": 32,
   "id": "dd700aff",
   "metadata": {
    "slideshow": {
     "slide_type": "skip"
    }
   },
   "outputs": [
    {
     "ename": "NameError",
     "evalue": "name 'ages' is not defined",
     "output_type": "error",
     "traceback": [
      "\u001b[0;31m---------------------------------------------------------------------------\u001b[0m",
      "\u001b[0;31mNameError\u001b[0m                                 Traceback (most recent call last)",
      "\u001b[0;32m/tmp/ipykernel_7741/2749428659.py\u001b[0m in \u001b[0;36m<module>\u001b[0;34m\u001b[0m\n\u001b[0;32m----> 1\u001b[0;31m \u001b[0mages\u001b[0m\u001b[0;34m.\u001b[0m\u001b[0msort_index\u001b[0m\u001b[0;34m(\u001b[0m\u001b[0;34m)\u001b[0m\u001b[0;34m\u001b[0m\u001b[0;34m\u001b[0m\u001b[0m\n\u001b[0m",
      "\u001b[0;31mNameError\u001b[0m: name 'ages' is not defined"
     ]
    }
   ],
   "source": [
    "ages.sort_index()"
   ]
  },
  {
   "cell_type": "code",
   "execution_count": null,
   "id": "5df67fb5",
   "metadata": {
    "slideshow": {
     "slide_type": "skip"
    }
   },
   "outputs": [],
   "source": [
    "ages_sorted = ages.sort_index()"
   ]
  },
  {
   "cell_type": "code",
   "execution_count": null,
   "id": "f2e53b2e",
   "metadata": {
    "slideshow": {
     "slide_type": "skip"
    }
   },
   "outputs": [],
   "source": [
    "ages"
   ]
  },
  {
   "cell_type": "code",
   "execution_count": null,
   "id": "837290ce",
   "metadata": {
    "slideshow": {
     "slide_type": "skip"
    }
   },
   "outputs": [],
   "source": [
    "ages_sorted"
   ]
  },
  {
   "cell_type": "code",
   "execution_count": null,
   "id": "807c17c9",
   "metadata": {
    "slideshow": {
     "slide_type": "subslide"
    }
   },
   "outputs": [],
   "source": [
    "ages = before['AGE'].value_counts()\n",
    "plt.figure(figsize=[20, 7])\n",
    "plt.subplot(1, 2, 1)\n",
    "sns.countplot(data=before, x='AGE', color=sns.color_palette()[0])\n",
    "plt.subplot(1, 2, 2)\n",
    "sns.countplot(data=before, x='AGE', order=before['AGE'].value_counts().index, color=sns.color_palette()[0])"
   ]
  },
  {
   "cell_type": "code",
   "execution_count": null,
   "id": "1e30be63",
   "metadata": {
    "slideshow": {
     "slide_type": "skip"
    }
   },
   "outputs": [],
   "source": [
    "plt.bar(before['AGE'].value_counts().index, before['AGE'].value_counts().values)"
   ]
  },
  {
   "cell_type": "code",
   "execution_count": null,
   "id": "969abdcf",
   "metadata": {
    "slideshow": {
     "slide_type": "skip"
    }
   },
   "outputs": [],
   "source": [
    "sns.countplot(data=before, x='AGE', order=before['AGE'].value_counts().index, color=sns.color_palette()[0])"
   ]
  },
  {
   "cell_type": "code",
   "execution_count": null,
   "id": "b30f8fbe",
   "metadata": {
    "slideshow": {
     "slide_type": "skip"
    }
   },
   "outputs": [],
   "source": [
    "before['AGE'].value_counts()"
   ]
  },
  {
   "cell_type": "code",
   "execution_count": null,
   "id": "76bbe69a",
   "metadata": {
    "slideshow": {
     "slide_type": "skip"
    }
   },
   "outputs": [],
   "source": [
    "sns.histplot(before, x='TEAR VOLUME', hue='SEX')\n",
    "# sns.histplot(during, x='TEAR VOLUME', )\n",
    "# sns.histplot(after, x='TEAR VOLUME')"
   ]
  },
  {
   "cell_type": "code",
   "execution_count": null,
   "id": "a3a18f7f",
   "metadata": {
    "slideshow": {
     "slide_type": "skip"
    }
   },
   "outputs": [],
   "source": []
  }
 ],
 "metadata": {
  "celltoolbar": "Slideshow",
  "kernelspec": {
   "display_name": "Python 3 (ipykernel)",
   "language": "python",
   "name": "python3"
  },
  "language_info": {
   "codemirror_mode": {
    "name": "ipython",
    "version": 3
   },
   "file_extension": ".py",
   "mimetype": "text/x-python",
   "name": "python",
   "nbconvert_exporter": "python",
   "pygments_lexer": "ipython3",
   "version": "3.9.7"
  }
 },
 "nbformat": 4,
 "nbformat_minor": 5
}
